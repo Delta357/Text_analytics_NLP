{
  "nbformat": 4,
  "nbformat_minor": 0,
  "metadata": {
    "colab": {
      "private_outputs": true,
      "provenance": [],
      "authorship_tag": "ABX9TyP1rEVNd/K+dqCc/B6IU8OH",
      "include_colab_link": true
    },
    "kernelspec": {
      "name": "python3",
      "display_name": "Python 3"
    },
    "language_info": {
      "name": "python"
    }
  },
  "cells": [
    {
      "cell_type": "markdown",
      "metadata": {
        "id": "view-in-github",
        "colab_type": "text"
      },
      "source": [
        "<a href=\"https://colab.research.google.com/github/Delta357/Text_analytics_NLP/blob/main/API_data_a%C3%A7%C3%A3oes.ipynb\" target=\"_parent\"><img src=\"https://colab.research.google.com/assets/colab-badge.svg\" alt=\"Open In Colab\"/></a>"
      ]
    },
    {
      "cell_type": "code",
      "source": [
        "!pip install googlesearch-python"
      ],
      "metadata": {
        "id": "GpE8pgjrFv4r"
      },
      "execution_count": null,
      "outputs": []
    },
    {
      "cell_type": "code",
      "source": [
        "!pip install feedparser"
      ],
      "metadata": {
        "id": "SzKc4SRUD2AL"
      },
      "execution_count": null,
      "outputs": []
    },
    {
      "cell_type": "code",
      "source": [
        "!pip install GoogleNews"
      ],
      "metadata": {
        "id": "NkSgm8AAJ7xd"
      },
      "execution_count": null,
      "outputs": []
    },
    {
      "cell_type": "code",
      "source": [
        "!pip install newsapi-python\n"
      ],
      "metadata": {
        "id": "JjxwRl3gNCtm"
      },
      "execution_count": null,
      "outputs": []
    },
    {
      "cell_type": "code",
      "source": [
        "import yfinance as yf\n",
        "from newsapi import NewsApiClient\n",
        "import pandas as pd\n",
        "\n",
        "def coletar_dados_acao(ticker, data_inicio, data_fim):\n",
        "    try:\n",
        "        # Obtém os dados da ação usando a biblioteca yfinance\n",
        "        acao = yf.download(ticker, start=data_inicio, end=data_fim)\n",
        "\n",
        "        # Imprime os dados coletados\n",
        "        print(acao)\n",
        "\n",
        "        # O objeto 'acao' é um DataFrame do pandas que contém os dados da ação\n",
        "        return acao\n",
        "    except Exception as e:\n",
        "        print(f\"Erro ao coletar dados da ação {ticker}: {e}\")\n",
        "        return None\n",
        "\n",
        "def obter_noticias_acao(ticker, numero_noticias=1000):\n",
        "    try:\n",
        "        # Configure sua chave de API da News API\n",
        "        api_key = \"KAY_API\"\n",
        "\n",
        "        # Cria o cliente da News API\n",
        "        newsapi = NewsApiClient(api_key=api_key)\n",
        "\n",
        "        # Lista para armazenar os dados das notícias\n",
        "        lista_noticias = []\n",
        "\n",
        "        # Número total de notícias coletadas\n",
        "        total_noticias = 0\n",
        "\n",
        "        # Coletar notícias em várias páginas até atingir o número desejado\n",
        "        pagina = 1\n",
        "        while total_noticias < numero_noticias:\n",
        "            # Obter notícias relacionadas à ação na página atual\n",
        "            noticias = newsapi.get_everything(q=ticker, language='en', page_size=100, page=pagina)\n",
        "            if not noticias['articles']:\n",
        "                # Se não houver mais notícias disponíveis, sair do loop\n",
        "                break\n",
        "\n",
        "            # Extrai os dados das notícias da página atual\n",
        "            for article in noticias['articles']:\n",
        "                title = article['title']\n",
        "                link = article['url']\n",
        "                description = article['description']\n",
        "                lista_noticias.append({'Texto': title, 'Link': link, 'Descrição': description})\n",
        "                total_noticias += 1\n",
        "\n",
        "            # Avança para a próxima página\n",
        "            pagina += 1\n",
        "\n",
        "        return lista_noticias\n",
        "\n",
        "    except Exception as e:\n",
        "        print(f\"Erro ao obter notícias da ação {ticker}: {e}\")\n",
        "        return []\n",
        "\n",
        "# Exemplo de utilização\n",
        "if __name__ == \"__main__\":\n",
        "    ticker = \"TSLA\"  # Símbolo da ação da Apple\n",
        "    data_inicio = \"2012-01-01\"\n",
        "    data_fim = \"2023-08-01\"\n",
        "    numero_noticias = 100  # Defina o número desejado de notícias\n",
        "\n",
        "    dados_acao = coletar_dados_acao(ticker, data_inicio, data_fim)\n",
        "    noticias = obter_noticias_acao(ticker, numero_noticias=numero_noticias)\n",
        "\n",
        "    # Criar DataFrame do pandas com as notícias\n",
        "    df_noticias = pd.DataFrame(noticias)\n",
        "\n",
        "    # Criar DataFrame do pandas com os dados da ação\n",
        "    df_acao = pd.DataFrame(dados_acao)\n",
        "\n",
        "    # Exibir o DataFrame com as notícias\n",
        "    print(df_noticias)\n"
      ],
      "metadata": {
        "id": "oN-NFYFMKhCA"
      },
      "execution_count": null,
      "outputs": []
    },
    {
      "cell_type": "code",
      "source": [
        "# Visualizando os 5 primeiros dados\n",
        "df_acao.head()"
      ],
      "metadata": {
        "id": "pCpt148pQ6aC"
      },
      "execution_count": null,
      "outputs": []
    },
    {
      "cell_type": "code",
      "source": [
        "# Visualizando os 5 últimos dados\n",
        "df_acao.tail()"
      ],
      "metadata": {
        "id": "ls-94mLUdrDF"
      },
      "execution_count": null,
      "outputs": []
    },
    {
      "cell_type": "code",
      "source": [
        "# Salvando dataset\n",
        "df_acao.to_csv(\"dataset_stock.csv\")"
      ],
      "metadata": {
        "id": "YvGkL_Ssdt9Z"
      },
      "execution_count": null,
      "outputs": []
    },
    {
      "cell_type": "code",
      "source": [
        "# Visualizando os 5 primeiros dados\n",
        "df_noticias.head()"
      ],
      "metadata": {
        "id": "tueINe-JS6yn"
      },
      "execution_count": null,
      "outputs": []
    },
    {
      "cell_type": "code",
      "source": [
        "# Visualizando os 10 primeiros dados\n",
        "df_noticias[\"Texto\"].head(10)"
      ],
      "metadata": {
        "id": "PlLw2jwrKiyL"
      },
      "execution_count": null,
      "outputs": []
    },
    {
      "cell_type": "code",
      "source": [
        "# Salvando dataset\n",
        "df_noticias.to_csv(\"dataset_text.csv\")"
      ],
      "metadata": {
        "id": "X6hadvqdP4z4"
      },
      "execution_count": null,
      "outputs": []
    }
  ]
}